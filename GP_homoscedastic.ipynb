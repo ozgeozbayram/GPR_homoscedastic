{
 "cells": [
  {
   "cell_type": "code",
   "execution_count": null,
   "id": "initial_id",
   "metadata": {
    "collapsed": true
   },
   "outputs": [],
   "source": [
    "import numpy as np\n",
    "import torch\n",
    "import torch.optim as optim\n",
    "import math\n",
    "from matplotlib import pyplot as plt\n",
    "from sklearn.preprocessing import StandardScaler"
   ]
  },
  {
   "cell_type": "code",
   "execution_count": null,
   "outputs": [],
   "source": [
    "plt.rcParams.update({\n",
    "    \"text.usetex\": True,\n",
    "    \"font.family\": \"serif\",\n",
    "    \"font.size\": 20,\n",
    "})"
   ],
   "metadata": {
    "collapsed": false
   },
   "id": "6eea783200f29021"
  },
  {
   "cell_type": "code",
   "execution_count": null,
   "outputs": [],
   "source": [
    "def matern_kernel(x1, x2, length_scale, nu=1.5, eps=1e-6):\n",
    "    # Ensure lengthscale is positive to avoid division by zero\n",
    "    lengthscale = torch.clamp(length_scale, min=eps)\n",
    "\n",
    "    # Mean subtraction (for input normalization)\n",
    "    mean_x1 = x1.mean(dim=-2, keepdim=True)\n",
    "    # mean_x2 = x2.mean(dim=-2, keepdim=True)\n",
    "    x1_ = (x1 - mean_x1).div(lengthscale)\n",
    "    x2_ = (x2 - mean_x1).div(lengthscale)\n",
    "\n",
    "    # Distance computation\n",
    "    distance = torch.cdist(x1_, x2_, p=2)\n",
    "\n",
    "\n",
    "    # Matern kernel computation\n",
    "    exp_component = torch.exp(-math.sqrt(nu * 2) * distance)\n",
    "\n",
    "    if nu == 0.5:\n",
    "        constant_component = 1\n",
    "    elif nu == 1.5:\n",
    "        constant_component = (math.sqrt(3) * distance).add(1)\n",
    "    elif nu == 2.5:\n",
    "        constant_component = (math.sqrt(5) * distance).add(1).add(5.0 / 3.0 * distance**2)\n",
    "    return constant_component * exp_component\n"
   ],
   "metadata": {
    "collapsed": false
   },
   "id": "b21980f6fd6817e5"
  },
  {
   "cell_type": "code",
   "execution_count": null,
   "outputs": [],
   "source": [],
   "metadata": {
    "collapsed": false
   },
   "id": "87965bed11afc489"
  },
  {
   "cell_type": "code",
   "execution_count": null,
   "outputs": [],
   "source": [],
   "metadata": {
    "collapsed": false
   },
   "id": "daf7839fa799057"
  },
  {
   "cell_type": "code",
   "execution_count": null,
   "outputs": [],
   "source": [],
   "metadata": {
    "collapsed": false
   },
   "id": "c59ee36bdef37815"
  }
 ],
 "metadata": {
  "kernelspec": {
   "display_name": "Python 3",
   "language": "python",
   "name": "python3"
  },
  "language_info": {
   "codemirror_mode": {
    "name": "ipython",
    "version": 2
   },
   "file_extension": ".py",
   "mimetype": "text/x-python",
   "name": "python",
   "nbconvert_exporter": "python",
   "pygments_lexer": "ipython2",
   "version": "2.7.6"
  }
 },
 "nbformat": 4,
 "nbformat_minor": 5
}
